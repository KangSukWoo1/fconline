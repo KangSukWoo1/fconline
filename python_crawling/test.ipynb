{
 "cells": [
  {
   "cell_type": "code",
   "execution_count": 1,
   "metadata": {},
   "outputs": [],
   "source": [
    "import pandas as pd \n",
    "import requests\n",
    "import os \n",
    "from dotenv import load_dotenv, find_dotenv\n",
    "import pickle\n",
    "load_dotenv(find_dotenv())\n",
    "import sys\n",
    "sys.path.append('/Users/kangsukwoo/fconline/utils/')\n",
    "import useful_function\n",
    "\n",
    "headers = {'x-nxopen-api-key' : os.getenv('x-nxopen-api-key')}\n",
    "\n",
    "# data = pd.DataFrame()\n",
    "data = list()\n",
    "for num in range(1,6):\n",
    "    if num == 1:\n",
    "        num = ''\n",
    "    with open(f'/Users/kangsukwoo/fconline/python_crawling/picklefile/matches_detail{num}.pickle', 'rb') as file:\n",
    "        matches_detail_data = pickle.load(file)\n",
    "    data.extend(matches_detail_data)    "
   ]
  },
  {
   "cell_type": "code",
   "execution_count": 2,
   "metadata": {},
   "outputs": [],
   "source": [
    "matches = [] \n",
    "for match in data:\n",
    "    for individual_match in match['matchInfo'] :\n",
    "        matches.append({'matchId' : match['matchId'],\n",
    "                          'matchDate' : match['matchDate'], \n",
    "                          **individual_match['matchDetail'],\n",
    "                          **individual_match['shoot'],\n",
    "                          'shootDetail' : individual_match['shootDetail'],\n",
    "                          **individual_match['pass'],\n",
    "                          **individual_match['defence'],\n",
    "                          'player' : individual_match['player']\n",
    "                        })"
   ]
  },
  {
   "cell_type": "code",
   "execution_count": 3,
   "metadata": {},
   "outputs": [],
   "source": [
    "player_status_list = []\n",
    "for match in matches:\n",
    "    for player in match['player']:\n",
    "        player_status_list.append({\n",
    "            'matchId' : match['matchId'],\n",
    "            'matchDate' : match['matchDate'],\n",
    "            'matchResult' : match['matchResult'],\n",
    "            'spId' : player['spId'],\n",
    "            'spPosition' : player['spPosition'],\n",
    "            'spGrade' : player['spGrade'],\n",
    "            **player['status']\n",
    "            })"
   ]
  },
  {
   "cell_type": "code",
   "execution_count": 80,
   "metadata": {},
   "outputs": [],
   "source": [
    "player_data = pd.DataFrame(player_status_list)\n",
    "\n",
    "# date & patch parsing\n",
    "player_data = player_data[player_data['matchDate'] >= '2024-02-15'] \n",
    "player_data['patch_boolean'] = player_data.apply(lambda x : 'before_patch' if x['matchDate'] < '2024-02-22 06:00:00' else 'after_patch', axis=1)\n",
    "\n",
    "# parse seasonid\n",
    "player_data['seasonId'] = player_data['spId'].apply(lambda x : int(str(x)[:3]))\n",
    "\n",
    "# use metadata\n",
    "spid = useful_function.get_metadata('spid')\n",
    "spposition = useful_function.get_metadata('spposition') \n",
    "seasonid = useful_function.get_metadata('seasonid') \n",
    "\n",
    "# merge dataframe\n",
    "player_data = pd.merge(spid, player_data, left_on='id', right_on='spId').drop(columns='id') \n",
    "player_data = pd.merge(spposition, player_data, left_on='spposition', right_on='spPosition').drop(columns='spposition')\n",
    "player_data = pd.merge(seasonid, player_data, on='seasonId')\n",
    "\n",
    "# select atk position data\n",
    "player_data = player_data[player_data['spPosition'].isin(range(17,28))]"
   ]
  },
  {
   "cell_type": "code",
   "execution_count": 81,
   "metadata": {},
   "outputs": [],
   "source": [
    "player_data = player_data[['seasonId','className','desc','name','matchId','matchDate','matchResult','spId','spPosition','spGrade','shoot','effectiveShoot','assist','goal','dribble','spRating','patch_boolean']]"
   ]
  },
  {
   "cell_type": "code",
   "execution_count": 85,
   "metadata": {},
   "outputs": [],
   "source": [
    "striker_position = [24, 25, 26] # st, rs, ls\n",
    "midfielder_position = [16, 19, 27, 12, 17, 23] # lm, lw, lam, rm rw, ram "
   ]
  },
  {
   "cell_type": "code",
   "execution_count": 96,
   "metadata": {},
   "outputs": [],
   "source": [
    "player_data['position_category'] = player_data['spPosition'].apply(lambda x : 'st' if x in striker_position else ('mid' if x in midfielder_position else None))\n",
    "\n",
    "before_patch = player_data[player_data['patch_boolean'] == 'before_patch']\n",
    "after_patch = player_data[player_data['patch_boolean'] == 'after_patch']\n",
    "\n",
    "before_patch_silver = before_patch[before_patch['spGrade'].isin([5,6,7])]\n",
    "before_patch_silver = before_patch_silver.groupby(['spId','spPosition']).filter(lambda x : x['matchId'].count() >= 100)\n",
    "before_patch_gold = before_patch[before_patch['spGrade'] >= 8]\n",
    "before_patch_gold = before_patch_gold.groupby(['spId','spPosition']).filter(lambda x : x['matchId'].count() >= 100)\n",
    "\n",
    "after_patch_silver = after_patch[after_patch['spGrade'].isin([5,6,7])]\n",
    "after_patch_silver = after_patch_silver.groupby(['spId','spPosition']).filter(lambda x : x['matchId'].count() >= 100)\n",
    "after_patch_gold = after_patch[after_patch['spGrade'] >= 8]\n",
    "after_patch_gold = after_patch_gold.groupby(['spId','spPosition']).filter(lambda x : x['matchId'].count() >= 100)"
   ]
  },
  {
   "cell_type": "code",
   "execution_count": 98,
   "metadata": {},
   "outputs": [],
   "source": [
    "grouped_before_patch_silver = before_patch_silver.groupby(['seasonId','className','name','position_category'], as_index=False).agg({\n",
    "    'shoot' : 'mean', \n",
    "    'effectiveShoot' : 'mean',\n",
    "    'assist' : 'mean',\n",
    "    'goal' : 'mean', \n",
    "    'dribble' : 'mean', \n",
    "    'spRating' : 'mean',\n",
    "    'matchId' : 'count'\n",
    "})\n",
    "\n",
    "grouped_before_patch_gold = before_patch_gold.groupby(['seasonId','className','name','position_category'], as_index=False).agg({\n",
    "    'shoot' : 'mean', \n",
    "    'effectiveShoot' : 'mean',\n",
    "    'assist' : 'mean',\n",
    "    'goal' : 'mean', \n",
    "    'dribble' : 'mean', \n",
    "    'spRating' : 'mean',\n",
    "    'matchId' : 'count'\n",
    "})\n",
    "\n",
    "grouped_after_patch_silver = after_patch_silver.groupby(['seasonId','className','name','position_category'], as_index=False).agg({\n",
    "    'shoot' : 'mean', \n",
    "    'effectiveShoot' : 'mean',\n",
    "    'assist' : 'mean',\n",
    "    'goal' : 'mean', \n",
    "    'dribble' : 'mean', \n",
    "    'spRating' : 'mean',\n",
    "    'matchId' : 'count'\n",
    "})\n",
    "\n",
    "grouped_after_patch_gold = after_patch_gold.groupby(['seasonId','className','name','position_category'], as_index=False).agg({\n",
    "    'shoot' : 'mean', \n",
    "    'effectiveShoot' : 'mean',\n",
    "    'assist' : 'mean',\n",
    "    'goal' : 'mean', \n",
    "    'dribble' : 'mean', \n",
    "    'spRating' : 'mean',\n",
    "    'matchId' : 'count'\n",
    "})"
   ]
  },
  {
   "cell_type": "code",
   "execution_count": 100,
   "metadata": {},
   "outputs": [
    {
     "ename": "ModuleNotFoundError",
     "evalue": "No module named 'openpyxl'",
     "output_type": "error",
     "traceback": [
      "\u001b[0;31m---------------------------------------------------------------------------\u001b[0m",
      "\u001b[0;31mModuleNotFoundError\u001b[0m                       Traceback (most recent call last)",
      "Cell \u001b[0;32mIn[100], line 1\u001b[0m\n\u001b[0;32m----> 1\u001b[0m \u001b[43mgrouped_before_patch_silver\u001b[49m\u001b[38;5;241;43m.\u001b[39;49m\u001b[43mto_excel\u001b[49m\u001b[43m(\u001b[49m\u001b[38;5;124;43m'\u001b[39;49m\u001b[38;5;124;43mgrouped_before_patch_silver.xlsx\u001b[39;49m\u001b[38;5;124;43m'\u001b[39;49m\u001b[43m)\u001b[49m\n\u001b[1;32m      2\u001b[0m grouped_before_patch_gold\u001b[38;5;241m.\u001b[39mto_excel(\u001b[38;5;124m'\u001b[39m\u001b[38;5;124mgrouped_before_patch_gold.xlsx\u001b[39m\u001b[38;5;124m'\u001b[39m)\n\u001b[1;32m      3\u001b[0m grouped_after_patch_silver\u001b[38;5;241m.\u001b[39mto_excel(\u001b[38;5;124m'\u001b[39m\u001b[38;5;124mgrouped_after_patch_silver.xlsx\u001b[39m\u001b[38;5;124m'\u001b[39m)\n",
      "File \u001b[0;32m/opt/homebrew/anaconda3/envs/fco/lib/python3.12/site-packages/pandas/util/_decorators.py:333\u001b[0m, in \u001b[0;36mdeprecate_nonkeyword_arguments.<locals>.decorate.<locals>.wrapper\u001b[0;34m(*args, **kwargs)\u001b[0m\n\u001b[1;32m    327\u001b[0m \u001b[38;5;28;01mif\u001b[39;00m \u001b[38;5;28mlen\u001b[39m(args) \u001b[38;5;241m>\u001b[39m num_allow_args:\n\u001b[1;32m    328\u001b[0m     warnings\u001b[38;5;241m.\u001b[39mwarn(\n\u001b[1;32m    329\u001b[0m         msg\u001b[38;5;241m.\u001b[39mformat(arguments\u001b[38;5;241m=\u001b[39m_format_argument_list(allow_args)),\n\u001b[1;32m    330\u001b[0m         \u001b[38;5;167;01mFutureWarning\u001b[39;00m,\n\u001b[1;32m    331\u001b[0m         stacklevel\u001b[38;5;241m=\u001b[39mfind_stack_level(),\n\u001b[1;32m    332\u001b[0m     )\n\u001b[0;32m--> 333\u001b[0m \u001b[38;5;28;01mreturn\u001b[39;00m \u001b[43mfunc\u001b[49m\u001b[43m(\u001b[49m\u001b[38;5;241;43m*\u001b[39;49m\u001b[43margs\u001b[49m\u001b[43m,\u001b[49m\u001b[43m \u001b[49m\u001b[38;5;241;43m*\u001b[39;49m\u001b[38;5;241;43m*\u001b[39;49m\u001b[43mkwargs\u001b[49m\u001b[43m)\u001b[49m\n",
      "File \u001b[0;32m/opt/homebrew/anaconda3/envs/fco/lib/python3.12/site-packages/pandas/core/generic.py:2414\u001b[0m, in \u001b[0;36mNDFrame.to_excel\u001b[0;34m(self, excel_writer, sheet_name, na_rep, float_format, columns, header, index, index_label, startrow, startcol, engine, merge_cells, inf_rep, freeze_panes, storage_options, engine_kwargs)\u001b[0m\n\u001b[1;32m   2401\u001b[0m \u001b[38;5;28;01mfrom\u001b[39;00m \u001b[38;5;21;01mpandas\u001b[39;00m\u001b[38;5;21;01m.\u001b[39;00m\u001b[38;5;21;01mio\u001b[39;00m\u001b[38;5;21;01m.\u001b[39;00m\u001b[38;5;21;01mformats\u001b[39;00m\u001b[38;5;21;01m.\u001b[39;00m\u001b[38;5;21;01mexcel\u001b[39;00m \u001b[38;5;28;01mimport\u001b[39;00m ExcelFormatter\n\u001b[1;32m   2403\u001b[0m formatter \u001b[38;5;241m=\u001b[39m ExcelFormatter(\n\u001b[1;32m   2404\u001b[0m     df,\n\u001b[1;32m   2405\u001b[0m     na_rep\u001b[38;5;241m=\u001b[39mna_rep,\n\u001b[0;32m   (...)\u001b[0m\n\u001b[1;32m   2412\u001b[0m     inf_rep\u001b[38;5;241m=\u001b[39minf_rep,\n\u001b[1;32m   2413\u001b[0m )\n\u001b[0;32m-> 2414\u001b[0m \u001b[43mformatter\u001b[49m\u001b[38;5;241;43m.\u001b[39;49m\u001b[43mwrite\u001b[49m\u001b[43m(\u001b[49m\n\u001b[1;32m   2415\u001b[0m \u001b[43m    \u001b[49m\u001b[43mexcel_writer\u001b[49m\u001b[43m,\u001b[49m\n\u001b[1;32m   2416\u001b[0m \u001b[43m    \u001b[49m\u001b[43msheet_name\u001b[49m\u001b[38;5;241;43m=\u001b[39;49m\u001b[43msheet_name\u001b[49m\u001b[43m,\u001b[49m\n\u001b[1;32m   2417\u001b[0m \u001b[43m    \u001b[49m\u001b[43mstartrow\u001b[49m\u001b[38;5;241;43m=\u001b[39;49m\u001b[43mstartrow\u001b[49m\u001b[43m,\u001b[49m\n\u001b[1;32m   2418\u001b[0m \u001b[43m    \u001b[49m\u001b[43mstartcol\u001b[49m\u001b[38;5;241;43m=\u001b[39;49m\u001b[43mstartcol\u001b[49m\u001b[43m,\u001b[49m\n\u001b[1;32m   2419\u001b[0m \u001b[43m    \u001b[49m\u001b[43mfreeze_panes\u001b[49m\u001b[38;5;241;43m=\u001b[39;49m\u001b[43mfreeze_panes\u001b[49m\u001b[43m,\u001b[49m\n\u001b[1;32m   2420\u001b[0m \u001b[43m    \u001b[49m\u001b[43mengine\u001b[49m\u001b[38;5;241;43m=\u001b[39;49m\u001b[43mengine\u001b[49m\u001b[43m,\u001b[49m\n\u001b[1;32m   2421\u001b[0m \u001b[43m    \u001b[49m\u001b[43mstorage_options\u001b[49m\u001b[38;5;241;43m=\u001b[39;49m\u001b[43mstorage_options\u001b[49m\u001b[43m,\u001b[49m\n\u001b[1;32m   2422\u001b[0m \u001b[43m    \u001b[49m\u001b[43mengine_kwargs\u001b[49m\u001b[38;5;241;43m=\u001b[39;49m\u001b[43mengine_kwargs\u001b[49m\u001b[43m,\u001b[49m\n\u001b[1;32m   2423\u001b[0m \u001b[43m\u001b[49m\u001b[43m)\u001b[49m\n",
      "File \u001b[0;32m/opt/homebrew/anaconda3/envs/fco/lib/python3.12/site-packages/pandas/io/formats/excel.py:943\u001b[0m, in \u001b[0;36mExcelFormatter.write\u001b[0;34m(self, writer, sheet_name, startrow, startcol, freeze_panes, engine, storage_options, engine_kwargs)\u001b[0m\n\u001b[1;32m    941\u001b[0m     need_save \u001b[38;5;241m=\u001b[39m \u001b[38;5;28;01mFalse\u001b[39;00m\n\u001b[1;32m    942\u001b[0m \u001b[38;5;28;01melse\u001b[39;00m:\n\u001b[0;32m--> 943\u001b[0m     writer \u001b[38;5;241m=\u001b[39m \u001b[43mExcelWriter\u001b[49m\u001b[43m(\u001b[49m\n\u001b[1;32m    944\u001b[0m \u001b[43m        \u001b[49m\u001b[43mwriter\u001b[49m\u001b[43m,\u001b[49m\n\u001b[1;32m    945\u001b[0m \u001b[43m        \u001b[49m\u001b[43mengine\u001b[49m\u001b[38;5;241;43m=\u001b[39;49m\u001b[43mengine\u001b[49m\u001b[43m,\u001b[49m\n\u001b[1;32m    946\u001b[0m \u001b[43m        \u001b[49m\u001b[43mstorage_options\u001b[49m\u001b[38;5;241;43m=\u001b[39;49m\u001b[43mstorage_options\u001b[49m\u001b[43m,\u001b[49m\n\u001b[1;32m    947\u001b[0m \u001b[43m        \u001b[49m\u001b[43mengine_kwargs\u001b[49m\u001b[38;5;241;43m=\u001b[39;49m\u001b[43mengine_kwargs\u001b[49m\u001b[43m,\u001b[49m\n\u001b[1;32m    948\u001b[0m \u001b[43m    \u001b[49m\u001b[43m)\u001b[49m\n\u001b[1;32m    949\u001b[0m     need_save \u001b[38;5;241m=\u001b[39m \u001b[38;5;28;01mTrue\u001b[39;00m\n\u001b[1;32m    951\u001b[0m \u001b[38;5;28;01mtry\u001b[39;00m:\n",
      "File \u001b[0;32m/opt/homebrew/anaconda3/envs/fco/lib/python3.12/site-packages/pandas/io/excel/_openpyxl.py:57\u001b[0m, in \u001b[0;36mOpenpyxlWriter.__init__\u001b[0;34m(self, path, engine, date_format, datetime_format, mode, storage_options, if_sheet_exists, engine_kwargs, **kwargs)\u001b[0m\n\u001b[1;32m     44\u001b[0m \u001b[38;5;28;01mdef\u001b[39;00m \u001b[38;5;21m__init__\u001b[39m(\n\u001b[1;32m     45\u001b[0m     \u001b[38;5;28mself\u001b[39m,\n\u001b[1;32m     46\u001b[0m     path: FilePath \u001b[38;5;241m|\u001b[39m WriteExcelBuffer \u001b[38;5;241m|\u001b[39m ExcelWriter,\n\u001b[0;32m   (...)\u001b[0m\n\u001b[1;32m     55\u001b[0m ) \u001b[38;5;241m-\u001b[39m\u001b[38;5;241m>\u001b[39m \u001b[38;5;28;01mNone\u001b[39;00m:\n\u001b[1;32m     56\u001b[0m     \u001b[38;5;66;03m# Use the openpyxl module as the Excel writer.\u001b[39;00m\n\u001b[0;32m---> 57\u001b[0m     \u001b[38;5;28;01mfrom\u001b[39;00m \u001b[38;5;21;01mopenpyxl\u001b[39;00m\u001b[38;5;21;01m.\u001b[39;00m\u001b[38;5;21;01mworkbook\u001b[39;00m \u001b[38;5;28;01mimport\u001b[39;00m Workbook\n\u001b[1;32m     59\u001b[0m     engine_kwargs \u001b[38;5;241m=\u001b[39m combine_kwargs(engine_kwargs, kwargs)\n\u001b[1;32m     61\u001b[0m     \u001b[38;5;28msuper\u001b[39m()\u001b[38;5;241m.\u001b[39m\u001b[38;5;21m__init__\u001b[39m(\n\u001b[1;32m     62\u001b[0m         path,\n\u001b[1;32m     63\u001b[0m         mode\u001b[38;5;241m=\u001b[39mmode,\n\u001b[0;32m   (...)\u001b[0m\n\u001b[1;32m     66\u001b[0m         engine_kwargs\u001b[38;5;241m=\u001b[39mengine_kwargs,\n\u001b[1;32m     67\u001b[0m     )\n",
      "\u001b[0;31mModuleNotFoundError\u001b[0m: No module named 'openpyxl'"
     ]
    }
   ],
   "source": [
    "grouped_before_patch_silver.to_excel('grouped_before_patch_silver.xlsx')\n",
    "grouped_before_patch_gold.to_excel('grouped_before_patch_gold.xlsx')\n",
    "grouped_after_patch_silver.to_excel('grouped_after_patch_silver.xlsx')\n",
    "grouped_after_patch_gold.to_excel('grouped_after_patch_gold.xlsx')"
   ]
  },
  {
   "cell_type": "code",
   "execution_count": null,
   "metadata": {},
   "outputs": [],
   "source": []
  }
 ],
 "metadata": {
  "kernelspec": {
   "display_name": "fco",
   "language": "python",
   "name": "python3"
  },
  "language_info": {
   "codemirror_mode": {
    "name": "ipython",
    "version": 3
   },
   "file_extension": ".py",
   "mimetype": "text/x-python",
   "name": "python",
   "nbconvert_exporter": "python",
   "pygments_lexer": "ipython3",
   "version": "3.12.1"
  }
 },
 "nbformat": 4,
 "nbformat_minor": 2
}
