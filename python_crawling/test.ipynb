{
 "cells": [
  {
   "cell_type": "code",
   "execution_count": 1,
   "metadata": {},
   "outputs": [],
   "source": [
    "import pandas as pd \n",
    "import requests\n",
    "import os \n",
    "from dotenv import load_dotenv, find_dotenv\n",
    "import pickle\n",
    "load_dotenv(find_dotenv())\n",
    "import sys\n",
    "sys.path.append('/Users/kangsukwoo/fconline/utils/')\n",
    "import useful_function\n",
    "\n",
    "headers = {'x-nxopen-api-key' : os.getenv('x-nxopen-api-key')}\n",
    "\n",
    "# data = pd.DataFrame()\n",
    "data = list()\n",
    "for num in range(1,6):\n",
    "    if num == 1:\n",
    "        num = ''\n",
    "    with open(f'/Users/kangsukwoo/fconline/python_crawling/picklefile/matches_detail{num}.pickle', 'rb') as file:\n",
    "        matches_detail_data = pickle.load(file)\n",
    "    data.extend(matches_detail_data)    "
   ]
  },
  {
   "cell_type": "code",
   "execution_count": 2,
   "metadata": {},
   "outputs": [],
   "source": [
    "matches = [] \n",
    "for match in data:\n",
    "    for individual_match in match['matchInfo'] :\n",
    "        matches.append({'matchId' : match['matchId'],\n",
    "                          'matchDate' : match['matchDate'], \n",
    "                          **individual_match['matchDetail'],\n",
    "                          **individual_match['shoot'],\n",
    "                          'shootDetail' : individual_match['shootDetail'],\n",
    "                          **individual_match['pass'],\n",
    "                          **individual_match['defence'],\n",
    "                          'player' : individual_match['player']\n",
    "                        })"
   ]
  },
  {
   "cell_type": "code",
   "execution_count": 3,
   "metadata": {},
   "outputs": [],
   "source": [
    "player_status_list = []\n",
    "for match in matches:\n",
    "    for player in match['player']:\n",
    "        player_status_list.append({\n",
    "            'matchId' : match['matchId'],\n",
    "            'matchDate' : match['matchDate'],\n",
    "            'matchResult' : match['matchResult'],\n",
    "            'spId' : player['spId'],\n",
    "            'spPosition' : player['spPosition'],\n",
    "            'spGrade' : player['spGrade'],\n",
    "            **player['status']\n",
    "            })"
   ]
  },
  {
   "cell_type": "code",
   "execution_count": 80,
   "metadata": {},
   "outputs": [],
   "source": [
    "player_data = pd.DataFrame(player_status_list)\n",
    "\n",
    "# date & patch parsing\n",
    "player_data = player_data[player_data['matchDate'] >= '2024-02-15'] \n",
    "player_data['patch_boolean'] = player_data.apply(lambda x : 'before_patch' if x['matchDate'] < '2024-02-22 06:00:00' else 'after_patch', axis=1)\n",
    "\n",
    "# parse seasonid\n",
    "player_data['seasonId'] = player_data['spId'].apply(lambda x : int(str(x)[:3]))\n",
    "\n",
    "# use metadata\n",
    "spid = useful_function.get_metadata('spid')\n",
    "spposition = useful_function.get_metadata('spposition') \n",
    "seasonid = useful_function.get_metadata('seasonid') \n",
    "\n",
    "# merge dataframe\n",
    "player_data = pd.merge(spid, player_data, left_on='id', right_on='spId').drop(columns='id') \n",
    "player_data = pd.merge(spposition, player_data, left_on='spposition', right_on='spPosition').drop(columns='spposition')\n",
    "player_data = pd.merge(seasonid, player_data, on='seasonId')\n",
    "\n",
    "# select atk position data\n",
    "player_data = player_data[player_data['spPosition'].isin(range(17,28))]"
   ]
  },
  {
   "cell_type": "code",
   "execution_count": 81,
   "metadata": {},
   "outputs": [],
   "source": [
    "player_data = player_data[['seasonId','className','desc','name','matchId','matchDate','matchResult','spId','spPosition','spGrade','shoot','effectiveShoot','assist','goal','dribble','spRating','patch_boolean']]"
   ]
  },
  {
   "cell_type": "code",
   "execution_count": 85,
   "metadata": {},
   "outputs": [],
   "source": [
    "striker_position = [24, 25, 26] # st, rs, ls\n",
    "midfielder_position = [16, 19, 27, 12, 17, 23] # lm, lw, lam, rm rw, ram "
   ]
  },
  {
   "cell_type": "code",
   "execution_count": 96,
   "metadata": {},
   "outputs": [],
   "source": [
    "player_data['position_category'] = player_data['spPosition'].apply(lambda x : 'st' if x in striker_position else ('mid' if x in midfielder_position else None))\n",
    "\n",
    "before_patch = player_data[player_data['patch_boolean'] == 'before_patch']\n",
    "after_patch = player_data[player_data['patch_boolean'] == 'after_patch']\n",
    "\n",
    "before_patch_silver = before_patch[before_patch['spGrade'].isin([5,6,7])]\n",
    "before_patch_silver = before_patch_silver.groupby(['spId','spPosition']).filter(lambda x : x['matchId'].count() >= 100)\n",
    "before_patch_gold = before_patch[before_patch['spGrade'] >= 8]\n",
    "before_patch_gold = before_patch_gold.groupby(['spId','spPosition']).filter(lambda x : x['matchId'].count() >= 100)\n",
    "\n",
    "after_patch_silver = after_patch[after_patch['spGrade'].isin([5,6,7])]\n",
    "after_patch_silver = after_patch_silver.groupby(['spId','spPosition']).filter(lambda x : x['matchId'].count() >= 100)\n",
    "after_patch_gold = after_patch[after_patch['spGrade'] >= 8]\n",
    "after_patch_gold = after_patch_gold.groupby(['spId','spPosition']).filter(lambda x : x['matchId'].count() >= 100)"
   ]
  },
  {
   "cell_type": "code",
   "execution_count": 98,
   "metadata": {},
   "outputs": [],
   "source": [
    "grouped_before_patch_silver = before_patch_silver.groupby(['seasonId','className','name','position_category'], as_index=False).agg({\n",
    "    'shoot' : 'mean', \n",
    "    'effectiveShoot' : 'mean',\n",
    "    'assist' : 'mean',\n",
    "    'goal' : 'mean', \n",
    "    'dribble' : 'mean', \n",
    "    'spRating' : 'mean',\n",
    "    'matchId' : 'count'\n",
    "})\n",
    "\n",
    "grouped_before_patch_gold = before_patch_gold.groupby(['seasonId','className','name','position_category'], as_index=False).agg({\n",
    "    'shoot' : 'mean', \n",
    "    'effectiveShoot' : 'mean',\n",
    "    'assist' : 'mean',\n",
    "    'goal' : 'mean', \n",
    "    'dribble' : 'mean', \n",
    "    'spRating' : 'mean',\n",
    "    'matchId' : 'count'\n",
    "})\n",
    "\n",
    "grouped_after_patch_silver = after_patch_silver.groupby(['seasonId','className','name','position_category'], as_index=False).agg({\n",
    "    'shoot' : 'mean', \n",
    "    'effectiveShoot' : 'mean',\n",
    "    'assist' : 'mean',\n",
    "    'goal' : 'mean', \n",
    "    'dribble' : 'mean', \n",
    "    'spRating' : 'mean',\n",
    "    'matchId' : 'count'\n",
    "})\n",
    "\n",
    "grouped_after_patch_gold = after_patch_gold.groupby(['seasonId','className','name','position_category'], as_index=False).agg({\n",
    "    'shoot' : 'mean', \n",
    "    'effectiveShoot' : 'mean',\n",
    "    'assist' : 'mean',\n",
    "    'goal' : 'mean', \n",
    "    'dribble' : 'mean', \n",
    "    'spRating' : 'mean',\n",
    "    'matchId' : 'count'\n",
    "})"
   ]
  },
  {
   "cell_type": "code",
   "execution_count": 101,
   "metadata": {},
   "outputs": [],
   "source": [
    "grouped_before_patch_silver.to_excel('grouped_before_patch_silver.xlsx')\n",
    "grouped_before_patch_gold.to_excel('grouped_before_patch_gold.xlsx')\n",
    "grouped_after_patch_silver.to_excel('grouped_after_patch_silver.xlsx')\n",
    "grouped_after_patch_gold.to_excel('grouped_after_patch_gold.xlsx')"
   ]
  },
  {
   "cell_type": "code",
   "execution_count": null,
   "metadata": {},
   "outputs": [],
   "source": []
  }
 ],
 "metadata": {
  "kernelspec": {
   "display_name": "fco",
   "language": "python",
   "name": "python3"
  },
  "language_info": {
   "codemirror_mode": {
    "name": "ipython",
    "version": 3
   },
   "file_extension": ".py",
   "mimetype": "text/x-python",
   "name": "python",
   "nbconvert_exporter": "python",
   "pygments_lexer": "ipython3",
   "version": "3.12.1"
  }
 },
 "nbformat": 4,
 "nbformat_minor": 2
}
